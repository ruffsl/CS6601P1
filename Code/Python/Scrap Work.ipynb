{
 "metadata": {
  "name": "Scrap Work"
 },
 "nbformat": 3,
 "nbformat_minor": 0,
 "worksheets": [
  {
   "cells": [
    {
     "cell_type": "code",
     "collapsed": false,
     "input": [
      "import networkx as nx\n",
      "import random"
     ],
     "language": "python",
     "metadata": {},
     "outputs": [],
     "prompt_number": 13
    },
    {
     "cell_type": "code",
     "collapsed": false,
     "input": [
      "def makeCCGraph(x, y, popN = [1,5], capN = [1,5], capE = [1,5], timeE = [1,5], seed = 1):\n",
      "    if (seed != None):\n",
      "        random.seed(seed)\n",
      "    G = nx.grid_2d_graph(x,y)\n",
      "    for node in G.nodes_iter():\n",
      "        pop = random.randint(min(popN),max(popN))\n",
      "        cap = random.randint(pop,max(capN))\n",
      "        G.node[node]['pop'] = pop\n",
      "        G.node[node]['cap'] = cap\n",
      "        G.node[node]['res'] = dict()\n",
      "    for edge in G.edges_iter():\n",
      "        cap  = random.randint(min(capE),max(capE))\n",
      "        time = random.randint(min(timeE),max(timeE))\n",
      "        G.edge[edge[0]][edge[1]]['cap'] = cap\n",
      "        G.edge[edge[0]][edge[1]]['time'] = time\n",
      "        G.edge[edge[0]][edge[1]]['res'] = dict()\n",
      "    return G\n",
      "\n",
      "def addSuperSourse(G, S):\n",
      "    SS = ['SS'] * len(S)\n",
      "    G.add_edges_from(zip(SS, S), time = 0, cap = float('inf'))\n",
      "    return G\n",
      "\n",
      "def addSuperDestination (G, D):\n",
      "    SD = ['SD'] * len(D)\n",
      "    G.add_edges_from(zip(SD, D), time = 0, cap = float('inf'))\n",
      "    return G\n",
      "\n",
      "def addSuper(G, S, D):\n",
      "    G = addSuperSourse(G, S)\n",
      "    G = addSuperDestination (G, D)\n",
      "    return G\n",
      "\n",
      "def removeSuper(G):\n",
      "    G.remove_node('SS')\n",
      "    G.remove_node('SD')\n",
      "    return G\n",
      "\n",
      "def getR(G, t = 0):\n",
      "    R = nx.shortest_path(G, source='SS', target='SD', weight='time')\n",
      "    R = R[1:-1]\n",
      "    return R\n",
      "\n",
      "def getEdgeTime(G, R, i):\n",
      "    try:\n",
      "        t = G.edge[R[i]][R[i+1]]['time']\n",
      "    except:\n",
      "        t = 0\n",
      "    return t\n",
      "\n",
      "def getResE(G, R, t, i):\n",
      "    try:\n",
      "        res = G.edge[R[i]][R[i+1]]['res'][t]\n",
      "    except:\n",
      "        res = G.edge[R[i]][R[i+1]]['cap']\n",
      "    return res\n",
      "\n",
      "def getResN(G, R, t, i):\n",
      "    try:\n",
      "        res = G.node[R[i]]['res'][t]\n",
      "    except:\n",
      "        res = G.node[R[i]]['cap']\n",
      "    return res\n",
      "\n",
      "def getEdgeRes(G, R, t=0):\n",
      "    capER = 0\n",
      "    for i in range(len(R)-1):\n",
      "        res = getResE(G, R, t, i)\n",
      "        capER += res\n",
      "        \n",
      "        t += getEdgeTime(G, R, i)\n",
      "    return capER\n",
      "\n",
      "def getNodeRes(G, R, t=0):\n",
      "    capNR = 0\n",
      "    for i in range(len(R)):\n",
      "        res = getResN(G, R, t, i)\n",
      "        capNR += res\n",
      "        \n",
      "        t += getEdgeTime(G, R, i)\n",
      "    return capNR\n",
      "\n",
      "def getFlow(G, R, t=0):\n",
      "    popS = G.node[R[0]]['pop']\n",
      "    edgeRes = getEdgeRes(G, R, t)\n",
      "    nodeRes = getNodeRes(G, R, t)\n",
      "    flow = min(popS, edgeRes, nodeRes)\n",
      "    return flow\n",
      "\n",
      "def setPathRes(G, R, flow, t=0):\n",
      "    t0 = t\n",
      "    resN = getResN(G, R, t, 0)\n",
      "    G.node[R[0]]['res'][t] = resN - flow\n",
      "    \n",
      "    for i in range(len(R)-1):        \n",
      "        resN = getResN(G, R, t, i+1)\n",
      "        G.node[R[i+1]]['res'][t] = resN - flow\n",
      "        \n",
      "        resE = getResE(G, R, t, i)\n",
      "        G.edge[R[i]][R[i+1]]['res'][t0]= resE - flow\n",
      "        \n",
      "        t += getEdgeTime(G, R, i)\n",
      "    return G\n",
      "\n",
      "def setSoursePop(G, R, flow):\n",
      "    G.node[R[0]]['pop'] -= flow\n",
      "    return G\n",
      "\n",
      "def updateSourses(G, R, S):\n",
      "    if(G.node[R[0]]['pop'] <= 0):\n",
      "        S.remove(R[0])\n",
      "        G.remove_edge(R[0],'SS')\n",
      "    return [G, S]\n",
      "\n",
      "def CCRP(G, S, D):\n",
      "    G = addSuper(G, S, D)\n",
      "    t = 0\n",
      "    i = 0\n",
      "    while (len(S) != 0):\n",
      "        print i, t\n",
      "        i += 1\n",
      "        R = getR(G, t)\n",
      "        flow = getFlow(G, R, t)\n",
      "        if (flow <= 0):\n",
      "            t += 1\n",
      "        else:\n",
      "            G = setPathRes(G, R, flow)\n",
      "            G = setSoursePop(G, R, flow)\n",
      "            [G, S] = updateSourses(G, R, S)\n",
      "    G = removeSuper(G)\n",
      "    return G"
     ],
     "language": "python",
     "metadata": {},
     "outputs": [],
     "prompt_number": 65
    },
    {
     "cell_type": "code",
     "collapsed": false,
     "input": [
      "G = makeCCGraph(5,5, seed = None)"
     ],
     "language": "python",
     "metadata": {},
     "outputs": [],
     "prompt_number": 105
    },
    {
     "cell_type": "code",
     "collapsed": false,
     "input": [
      "#S = [(0,0),(0,1),(1,0)]\n",
      "#D = [(4,4),(4,3),(3,4)]\n",
      "\n",
      "S = [(0,0),(0,4),(4,0)]\n",
      "D = [(4,4)]\n",
      "G = CCRP(G, S, D)"
     ],
     "language": "python",
     "metadata": {},
     "outputs": [
      {
       "output_type": "stream",
       "stream": "stdout",
       "text": [
        "0 0\n",
        "1 0\n",
        "2 0\n"
       ]
      }
     ],
     "prompt_number": 106
    },
    {
     "cell_type": "code",
     "collapsed": false,
     "input": [
      "#nx.draw_spectral(G)\n",
      "drawGraph(G)"
     ],
     "language": "python",
     "metadata": {},
     "outputs": [
      {
       "output_type": "display_data",
       "png": "[encoded data removed]",
       "text": [
        "<matplotlib.figure.Figure at 0x279add0>"
       ]
      }
     ],
     "prompt_number": 107
    },
    {
     "cell_type": "code",
     "collapsed": false,
     "input": [
      "G.node[(0,0)]"
     ],
     "language": "python",
     "metadata": {},
     "outputs": [
      {
       "output_type": "pyout",
       "prompt_number": 108,
       "text": [
        "{'cap': 4, 'pop': 0, 'res': {0: 0}}"
       ]
      }
     ],
     "prompt_number": 108
    },
    {
     "cell_type": "code",
     "collapsed": false,
     "input": [
      "def drawGraph(G):\n",
      "    edgewidth=[]\n",
      "    for (u,v,d) in G.edges(data=True):\n",
      "        edgewidth.append(d['cap'])\n",
      "    pos = nx.spectral_layout(G, weight='time')\n",
      "        \n",
      "    nx.draw_networkx_edges(G, pos, width = edgewidth, edge_color='green')\n",
      "    \n",
      "    nodesize=[wins[v]*50 for v in H]\n",
      "    nx.draw_networkx_nodes(H,pos,node_size=nodesize,node_color='w',alpha=0.4)"
     ],
     "language": "python",
     "metadata": {},
     "outputs": [],
     "prompt_number": 62
    },
    {
     "cell_type": "code",
     "collapsed": false,
     "input": [],
     "language": "python",
     "metadata": {},
     "outputs": []
    },
    {
     "cell_type": "code",
     "collapsed": false,
     "input": [],
     "language": "python",
     "metadata": {},
     "outputs": []
    }
   ],
   "metadata": {}
  }
 ]
}